{
 "cells": [
  {
   "cell_type": "code",
   "execution_count": null,
   "metadata": {},
   "outputs": [],
   "source": [
    "! pip install pandas\n",
    "! pip install numpy\n",
    "! pip install matplotlib\n",
    "! pip install seaborn\n",
    "! pip install scikit-learn\n"
   ]
  },
  {
   "cell_type": "markdown",
   "metadata": {},
   "source": [
    "# 0 - Imports"
   ]
  },
  {
   "cell_type": "code",
   "execution_count": 3,
   "metadata": {},
   "outputs": [],
   "source": [
    "import pandas as pd\n",
    "pd.set_option(\"display.max_colwidth\", 150)\n",
    "pd.set_option(\"display.min_rows\", 20)\n",
    "\n",
    "import numpy as np\n",
    "import matplotlib.pyplot as plt\n",
    "import seaborn as sns\n",
    "from sklearn.cluster import KMeans, DBSCAN\n",
    "from sklearn.decomposition import PCA\n",
    "from sklearn.preprocessing import LabelEncoder, StandardScaler\n",
    "from datetime import datetime\n",
    "from sklearn.model_selection import train_test_split\n",
    "from sklearn.neighbors import KNeighborsClassifier\n",
    "from sklearn.tree import DecisionTreeClassifier\n",
    "from sklearn.metrics import accuracy_score, classification_report"
   ]
  },
  {
   "cell_type": "markdown",
   "metadata": {},
   "source": [
    "# 1 - Carregar o dataset de treino"
   ]
  },
  {
   "cell_type": "code",
   "execution_count": 31,
   "metadata": {},
   "outputs": [],
   "source": [
    "df = pd.read_csv(\"./csv/treino/clientes.csv\")"
   ]
  },
  {
   "cell_type": "code",
   "execution_count": null,
   "metadata": {},
   "outputs": [],
   "source": [
    "df.head()"
   ]
  },
  {
   "cell_type": "markdown",
   "metadata": {},
   "source": [
    "# 2 - Pré-processamento dos dados"
   ]
  },
  {
   "cell_type": "code",
   "execution_count": null,
   "metadata": {},
   "outputs": [],
   "source": [
    "label_encoders = {}\n",
    "for column in ['Sexo', 'Profissão', 'Estado Civil']:\n",
    "    le = LabelEncoder()\n",
    "    df[column] = le.fit_transform(df[column])\n",
    "    label_encoders[column] = le\n",
    "\n",
    "# Preenchendo valores ausentes\n",
    "df.fillna({'Data de Início no Último Emprego': pd.to_datetime('2000-01-01')}, inplace=True)\n",
    "df['Data de Início no Último Emprego'] = pd.to_datetime(df['Data de Início no Último Emprego'])\n",
    "df['Anos de Emprego'] = (pd.to_datetime('today') - df['Data de Início no Último Emprego']).dt.days // 365\n",
    "df\n"
   ]
  },
  {
   "cell_type": "markdown",
   "metadata": {},
   "source": [
    "# 3 - Adicionar idade e risco baseado em condições"
   ]
  },
  {
   "cell_type": "code",
   "execution_count": null,
   "metadata": {},
   "outputs": [],
   "source": [
    "df['Data de Nascimento'] = pd.to_datetime(df['Data de Nascimento'])\n",
    "df[\"Idade\"] = (datetime.now() - df['Data de Nascimento']).dt.days // 365\n",
    "\n",
    "# Definindo o risco com base na idade e outras condições\n",
    "def calculate_risk(row):\n",
    "    risk = 0\n",
    "    # Condições de risco baseados na idade\n",
    "    if 18 <= row[\"Idade\"] <= 24:\n",
    "        risk += 1  # Risco médio\n",
    "    elif 25 <= row['Idade'] <= 49:\n",
    "        risk -= 1 # Risco baixo\n",
    "    else:\n",
    "        risk += 1 # Risco médio\n",
    "\n",
    "    # Adicionando risco se a Data de Início do Último Emprego for nulo\n",
    "    if row['Data de Início no Último Emprego'] == pd.to_datetime('2000-01-01'):\n",
    "        risk += 4  # Aumenta o risco em 80%\n",
    "\n",
    "    # Adicionando risco baseado no sexo\n",
    "    if row['Sexo'] == 1:\n",
    "        risk += 0.05  # \n",
    "\n",
    "    return risk \n",
    "\n",
    "df['Risco'] = df.apply(calculate_risk, axis=1)\n",
    "\n",
    "# Somar o risco ao score do crédito\n",
    "df['Score Ajustado'] = 500 + (df['Risco'] * 50) # Inicializa com um score base de 500\n",
    "df['Score Ajustado'] = df['Score Ajustado'].clip(lower=0, upper=850)\n",
    "\n",
    "df"
   ]
  },
  {
   "cell_type": "markdown",
   "metadata": {},
   "source": [
    "# 4 - Transformando o Score Ajustado em Classes"
   ]
  },
  {
   "cell_type": "code",
   "execution_count": null,
   "metadata": {},
   "outputs": [],
   "source": [
    "def categorize_score(score):\n",
    "    if score >= 600:\n",
    "        return 1  # Bom pagador\n",
    "    elif 400 <= score < 600:\n",
    "        return 0  # Pagador médio\n",
    "    else:\n",
    "        return -1  # Mal pagador\n",
    "    \n",
    "\n",
    "# Aplicando a categorização\n",
    "df['Classificacao'] = df['Score Ajustado'].apply(categorize_score)\n",
    "\n",
    "# Separar em variáveis de entrada e variáveis alvo\n",
    "X = df.drop(columns=['Score Ajustado', 'Classificacao', 'Nome', 'Data de Nascimento', 'Data de Início no Último Emprego'])\n",
    "y = df['Classificacao']\n",
    "\n",
    "df"
   ]
  },
  {
   "cell_type": "code",
   "execution_count": 36,
   "metadata": {},
   "outputs": [],
   "source": [
    "# Normalizando os dados\n",
    "scaler = StandardScaler()\n",
    "x_scaled = scaler.fit_transform(X)\n",
    "\n",
    "# Dividindo o dataset em treino e teste\n",
    "x_train, x_test, y_train, y_test = train_test_split(x_scaled, y, test_size=0.3, random_state=42)\n"
   ]
  },
  {
   "cell_type": "markdown",
   "metadata": {},
   "source": [
    "5. Treinamento e Teste com KMN"
   ]
  },
  {
   "cell_type": "code",
   "execution_count": 37,
   "metadata": {},
   "outputs": [],
   "source": [
    "knm = KNeighborsClassifier(n_neighbors=5)\n",
    "knm.fit(x_train, y_train)\n",
    "y_pred_knm = knm.predict(x_test)\n"
   ]
  },
  {
   "cell_type": "markdown",
   "metadata": {},
   "source": [
    "# 6. Treinamento e Teste com Árvore de Decisão"
   ]
  },
  {
   "cell_type": "code",
   "execution_count": 38,
   "metadata": {},
   "outputs": [],
   "source": [
    "tree = DecisionTreeClassifier(random_state=42)\n",
    "tree.fit(x_train, y_train)\n",
    "y_pred_tree = tree.predict(x_test)\n"
   ]
  },
  {
   "cell_type": "markdown",
   "metadata": {},
   "source": [
    "# 7. Comparando os Modelos"
   ]
  },
  {
   "cell_type": "code",
   "execution_count": null,
   "metadata": {},
   "outputs": [],
   "source": [
    "print(\"Resultado do KMN:\")\n",
    "print(classification_report(y_test, y_pred_knm))\n",
    "\n",
    "print('Resultado da Árvore de Decisão:')\n",
    "print(classification_report(y_test, y_pred_tree))"
   ]
  },
  {
   "cell_type": "markdown",
   "metadata": {},
   "source": [
    "# Visualizações (Boxplot, K-Means e DBSCAN)"
   ]
  },
  {
   "cell_type": "markdown",
   "metadata": {},
   "source": [
    "# 8. Boxplot para detectar outliers"
   ]
  },
  {
   "cell_type": "code",
   "execution_count": null,
   "metadata": {},
   "outputs": [],
   "source": [
    "plt.Figure(figsize=(10,6))\n",
    "sns.boxplot(data=df[['Salário Atual', 'Anos de Emprego']])\n",
    "plt.title('Detecção de Outliers - Salário Base e Anos no Emprego')\n",
    "plt.show()"
   ]
  },
  {
   "cell_type": "markdown",
   "metadata": {},
   "source": [
    "# 9. K-Means para visualizar clusters de clientes"
   ]
  },
  {
   "cell_type": "code",
   "execution_count": null,
   "metadata": {},
   "outputs": [],
   "source": [
    "pca = PCA(n_components=2)\n",
    "X_pca = pca.fit_transform(x_scaled)\n",
    "\n",
    "# Clustering com K-Means\n",
    "kmeans = KMeans(n_clusters=3, random_state=42)\n",
    "clusters = kmeans.fit_predict(X_pca)\n",
    "\n",
    "plt.Figure(figsize=(10, 6))\n",
    "plt.scatter(X_pca[:, 0], X_pca[:, 1], c=clusters, cmap='viridis')\n",
    "plt.title('Clusters de Clientes - K-Means')\n",
    "plt.xlabel('Componente Principal 1')\n",
    "plt.ylabel('Componente Principal 2')\n",
    "plt.show()\n"
   ]
  },
  {
   "cell_type": "markdown",
   "metadata": {},
   "source": [
    "# 10. DBSCAN para visualização de quadrantes"
   ]
  },
  {
   "cell_type": "code",
   "execution_count": null,
   "metadata": {},
   "outputs": [],
   "source": [
    "dbscan = DBSCAN(eps=0.5, min_samples=5)\n",
    "db_clusters = dbscan.fit_predict(X_pca)\n",
    "\n",
    "plt.figure(figsize=(10, 6))\n",
    "plt.scatter(X_pca[:, 0], X_pca[:, 1], c=db_clusters, cmap='plasma')\n",
    "plt.title('DBSCAN - Clusters em Quadrantes')\n",
    "plt.xlabel('Componente Principal 1')\n",
    "plt.ylabel('Componente Principal 2')\n",
    "plt.show()"
   ]
  },
  {
   "cell_type": "markdown",
   "metadata": {},
   "source": [
    "# Testar um novo dataset"
   ]
  },
  {
   "cell_type": "code",
   "execution_count": 46,
   "metadata": {},
   "outputs": [],
   "source": [
    "df_teste = pd.read_csv('./csv/teste/clientes_testes.csv')"
   ]
  },
  {
   "cell_type": "code",
   "execution_count": null,
   "metadata": {},
   "outputs": [],
   "source": [
    "df_teste.head()"
   ]
  },
  {
   "cell_type": "markdown",
   "metadata": {},
   "source": [
    "# Pré-processamento do novo dataset"
   ]
  },
  {
   "cell_type": "code",
   "execution_count": null,
   "metadata": {},
   "outputs": [],
   "source": [
    "df_teste['Data de Nascimento'] = pd.to_datetime(df_teste['Data de Nascimento'])\n",
    "df_teste['Data de Início no Último Emprego'] = pd.to_datetime(df_teste['Data de Início no Último Emprego'], errors='coerce')\n",
    "df_teste.fillna({'Data de Início no Último Emprego': pd.to_datetime('2000-01-01')}, inplace=True)\n",
    "df_teste['Idade'] = (datetime.now() - df_teste['Data de Nascimento']).dt.days // 365\n",
    "df_teste['Anos no Emprego'] = (pd.to_datetime('today') - df_teste['Data de Início no Último Emprego']).dt.days // 365\n",
    "df_teste['Risco'] = df_teste.apply(calculate_risk, axis=1)\n",
    "df_teste['Score Ajustado'] = df_teste['Score de Crédito'] + (df_teste['Risco'] * 50)\n",
    "df_teste['Score Ajustado'] = df_teste['Score Ajustado'].clip(lower=0, upper=850)\n",
    "df_teste['Classificacao'] = df_teste['Score Ajustado'].apply(categorize_score)"
   ]
  },
  {
   "cell_type": "markdown",
   "metadata": {},
   "source": [
    "# Preprocessando os dados do novo dataset"
   ]
  },
  {
   "cell_type": "code",
   "execution_count": 52,
   "metadata": {},
   "outputs": [],
   "source": [
    "x_teste = df_teste[['Sexo', 'Profissão', 'Salário Atual', 'Estado Civil', 'Número de Filhos', 'Empregado', 'Idade', 'Anos no Emprego']]\n",
    "x_teste = pd.get_dummies(x_teste, drop_first=True) # One-hot encoding para variáveis categóricas"
   ]
  },
  {
   "cell_type": "code",
   "execution_count": 53,
   "metadata": {},
   "outputs": [],
   "source": [
    "# Garantindo a mesma ordem das colunas do dataset de treino\n",
    "x_teste = x_teste.reindex(columns=X.columns, fill_value=0) # Preencher com 0 para colunas que não estão no teste\n",
    "x_teste_scaled = scaler.transform(x_teste)  # Normalizando os dados do novo dataset\n"
   ]
  },
  {
   "cell_type": "code",
   "execution_count": 54,
   "metadata": {},
   "outputs": [],
   "source": [
    "# Realizando previsões no novo dataset\n",
    "predicoes_kmn = knm.predict(x_teste_scaled)\n",
    "predicoes_tree = tree.predict(x_teste_scaled)"
   ]
  },
  {
   "cell_type": "code",
   "execution_count": 55,
   "metadata": {},
   "outputs": [],
   "source": [
    "# Adicionando as previsões ao dataset\n",
    "df_teste['Predição KMN'] = predicoes_kmn\n",
    "df_teste['Predição Arvore'] = predicoes_tree"
   ]
  },
  {
   "cell_type": "code",
   "execution_count": null,
   "metadata": {},
   "outputs": [],
   "source": [
    "df_teste"
   ]
  },
  {
   "cell_type": "code",
   "execution_count": 57,
   "metadata": {},
   "outputs": [],
   "source": [
    "# Função para mapear as previsões para labels descritivos\n",
    "def map_prediction(pred):\n",
    "    if pred == 1:\n",
    "        return 'Bom pagador'\n",
    "    elif pred == 0:\n",
    "        return 'Pagador médio'\n",
    "    else:\n",
    "        return 'Mal pagador'\n",
    "    "
   ]
  },
  {
   "cell_type": "code",
   "execution_count": 58,
   "metadata": {},
   "outputs": [
    {
     "name": "stdout",
     "output_type": "stream",
     "text": [
      "\n",
      "Resultado das Previsões:\n",
      "            Nome   Predição KMN Predição Arvore\n",
      "0      Cliente_0  Pagador médio     Bom pagador\n",
      "1      Cliente_1  Pagador médio     Bom pagador\n",
      "2      Cliente_2  Pagador médio     Bom pagador\n",
      "3      Cliente_3  Pagador médio   Pagador médio\n",
      "4      Cliente_4  Pagador médio     Bom pagador\n",
      "5      Cliente_5  Pagador médio     Bom pagador\n",
      "6      Cliente_6  Pagador médio     Bom pagador\n",
      "7      Cliente_7  Pagador médio   Pagador médio\n",
      "8      Cliente_8  Pagador médio   Pagador médio\n",
      "9      Cliente_9  Pagador médio   Pagador médio\n",
      "..           ...            ...             ...\n",
      "990  Cliente_990  Pagador médio   Pagador médio\n",
      "991  Cliente_991  Pagador médio   Pagador médio\n",
      "992  Cliente_992  Pagador médio   Pagador médio\n",
      "993  Cliente_993  Pagador médio   Pagador médio\n",
      "994  Cliente_994  Pagador médio     Bom pagador\n",
      "995  Cliente_995  Pagador médio   Pagador médio\n",
      "996  Cliente_996  Pagador médio   Pagador médio\n",
      "997  Cliente_997  Pagador médio     Bom pagador\n",
      "998  Cliente_998  Pagador médio   Pagador médio\n",
      "999  Cliente_999  Pagador médio     Bom pagador\n",
      "\n",
      "[1000 rows x 3 columns]\n"
     ]
    }
   ],
   "source": [
    "# Imprimindo os resultados das previsões com labels descritivos\n",
    "df_teste['Predição KMN'] = df_teste['Predição KMN'].apply(map_prediction)\n",
    "df_teste['Predição Arvore'] = df_teste['Predição Arvore'].apply(map_prediction)\n",
    "\n",
    "print('\\nResultado das Previsões:')\n",
    "print(df_teste[['Nome', 'Predição KMN', 'Predição Arvore']])"
   ]
  },
  {
   "cell_type": "markdown",
   "metadata": {},
   "source": [
    "# Exportando o resultado para um CSV"
   ]
  },
  {
   "cell_type": "code",
   "execution_count": 59,
   "metadata": {},
   "outputs": [],
   "source": [
    "df_teste[['Nome', 'Predição KMN', 'Predição Arvore']].to_csv('resultados_previsao.csv', index=False)\n"
   ]
  }
 ],
 "metadata": {
  "kernelspec": {
   "display_name": "Python 3",
   "language": "python",
   "name": "python3"
  },
  "language_info": {
   "codemirror_mode": {
    "name": "ipython",
    "version": 3
   },
   "file_extension": ".py",
   "mimetype": "text/x-python",
   "name": "python",
   "nbconvert_exporter": "python",
   "pygments_lexer": "ipython3",
   "version": "3.12.4"
  }
 },
 "nbformat": 4,
 "nbformat_minor": 2
}
